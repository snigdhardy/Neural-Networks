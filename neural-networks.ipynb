{
 "cells": [
  {
   "cell_type": "code",
   "execution_count": 1,
   "metadata": {},
   "outputs": [
    {
     "name": "stderr",
     "output_type": "stream",
     "text": [
      "\n",
      "A module that was compiled using NumPy 1.x cannot be run in\n",
      "NumPy 2.2.1 as it may crash. To support both 1.x and 2.x\n",
      "versions of NumPy, modules must be compiled with NumPy 2.0.\n",
      "Some module may need to rebuild instead e.g. with 'pybind11>=2.12'.\n",
      "\n",
      "If you are a user of the module, the easiest solution will be to\n",
      "downgrade to 'numpy<2' or try to upgrade the affected module.\n",
      "We expect that some modules will need time to support NumPy 2.\n",
      "\n",
      "Traceback (most recent call last):  File \"/usr/lib/python3.10/runpy.py\", line 196, in _run_module_as_main\n",
      "    return _run_code(code, main_globals, None,\n",
      "  File \"/usr/lib/python3.10/runpy.py\", line 86, in _run_code\n",
      "    exec(code, run_globals)\n",
      "  File \"/usr/local/lib/python3.10/dist-packages/ipykernel_launcher.py\", line 18, in <module>\n",
      "    app.launch_new_instance()\n",
      "  File \"/usr/local/lib/python3.10/dist-packages/traitlets/config/application.py\", line 1075, in launch_instance\n",
      "    app.start()\n",
      "  File \"/usr/local/lib/python3.10/dist-packages/ipykernel/kernelapp.py\", line 739, in start\n",
      "    self.io_loop.start()\n",
      "  File \"/usr/local/lib/python3.10/dist-packages/tornado/platform/asyncio.py\", line 205, in start\n",
      "    self.asyncio_loop.run_forever()\n",
      "  File \"/usr/lib/python3.10/asyncio/base_events.py\", line 603, in run_forever\n",
      "    self._run_once()\n",
      "  File \"/usr/lib/python3.10/asyncio/base_events.py\", line 1909, in _run_once\n",
      "    handle._run()\n",
      "  File \"/usr/lib/python3.10/asyncio/events.py\", line 80, in _run\n",
      "    self._context.run(self._callback, *self._args)\n",
      "  File \"/usr/local/lib/python3.10/dist-packages/ipykernel/kernelbase.py\", line 545, in dispatch_queue\n",
      "    await self.process_one()\n",
      "  File \"/usr/local/lib/python3.10/dist-packages/ipykernel/kernelbase.py\", line 534, in process_one\n",
      "    await dispatch(*args)\n",
      "  File \"/usr/local/lib/python3.10/dist-packages/ipykernel/kernelbase.py\", line 437, in dispatch_shell\n",
      "    await result\n",
      "  File \"/usr/local/lib/python3.10/dist-packages/ipykernel/ipkernel.py\", line 362, in execute_request\n",
      "    await super().execute_request(stream, ident, parent)\n",
      "  File \"/usr/local/lib/python3.10/dist-packages/ipykernel/kernelbase.py\", line 778, in execute_request\n",
      "    reply_content = await reply_content\n",
      "  File \"/usr/local/lib/python3.10/dist-packages/ipykernel/ipkernel.py\", line 449, in do_execute\n",
      "    res = shell.run_cell(\n",
      "  File \"/usr/local/lib/python3.10/dist-packages/ipykernel/zmqshell.py\", line 549, in run_cell\n",
      "    return super().run_cell(*args, **kwargs)\n",
      "  File \"/usr/local/lib/python3.10/dist-packages/IPython/core/interactiveshell.py\", line 3075, in run_cell\n",
      "    result = self._run_cell(\n",
      "  File \"/usr/local/lib/python3.10/dist-packages/IPython/core/interactiveshell.py\", line 3130, in _run_cell\n",
      "    result = runner(coro)\n",
      "  File \"/usr/local/lib/python3.10/dist-packages/IPython/core/async_helpers.py\", line 128, in _pseudo_sync_runner\n",
      "    coro.send(None)\n",
      "  File \"/usr/local/lib/python3.10/dist-packages/IPython/core/interactiveshell.py\", line 3334, in run_cell_async\n",
      "    has_raised = await self.run_ast_nodes(code_ast.body, cell_name,\n",
      "  File \"/usr/local/lib/python3.10/dist-packages/IPython/core/interactiveshell.py\", line 3517, in run_ast_nodes\n",
      "    if await self.run_code(code, result, async_=asy):\n",
      "  File \"/usr/local/lib/python3.10/dist-packages/IPython/core/interactiveshell.py\", line 3577, in run_code\n",
      "    exec(code_obj, self.user_global_ns, self.user_ns)\n",
      "  File \"/tmp/ipykernel_45250/2080034654.py\", line 2, in <module>\n",
      "    import pandas as pd\n",
      "  File \"/usr/local/lib/python3.10/dist-packages/pandas/__init__.py\", line 49, in <module>\n",
      "    from pandas.core.api import (\n",
      "  File \"/usr/local/lib/python3.10/dist-packages/pandas/core/api.py\", line 28, in <module>\n",
      "    from pandas.core.arrays import Categorical\n",
      "  File \"/usr/local/lib/python3.10/dist-packages/pandas/core/arrays/__init__.py\", line 1, in <module>\n",
      "    from pandas.core.arrays.arrow import ArrowExtensionArray\n",
      "  File \"/usr/local/lib/python3.10/dist-packages/pandas/core/arrays/arrow/__init__.py\", line 5, in <module>\n",
      "    from pandas.core.arrays.arrow.array import ArrowExtensionArray\n",
      "  File \"/usr/local/lib/python3.10/dist-packages/pandas/core/arrays/arrow/array.py\", line 50, in <module>\n",
      "    from pandas.core import (\n",
      "  File \"/usr/local/lib/python3.10/dist-packages/pandas/core/ops/__init__.py\", line 8, in <module>\n",
      "    from pandas.core.ops.array_ops import (\n",
      "  File \"/usr/local/lib/python3.10/dist-packages/pandas/core/ops/array_ops.py\", line 56, in <module>\n",
      "    from pandas.core.computation import expressions\n",
      "  File \"/usr/local/lib/python3.10/dist-packages/pandas/core/computation/expressions.py\", line 21, in <module>\n",
      "    from pandas.core.computation.check import NUMEXPR_INSTALLED\n",
      "  File \"/usr/local/lib/python3.10/dist-packages/pandas/core/computation/check.py\", line 5, in <module>\n",
      "    ne = import_optional_dependency(\"numexpr\", errors=\"warn\")\n",
      "  File \"/usr/local/lib/python3.10/dist-packages/pandas/compat/_optional.py\", line 135, in import_optional_dependency\n",
      "    module = importlib.import_module(name)\n",
      "  File \"/usr/lib/python3.10/importlib/__init__.py\", line 126, in import_module\n",
      "    return _bootstrap._gcd_import(name[level:], package, level)\n",
      "  File \"/usr/lib/python3/dist-packages/numexpr/__init__.py\", line 24, in <module>\n",
      "    from numexpr.interpreter import MAX_THREADS, use_vml, __BLOCK_SIZE1__\n"
     ]
    },
    {
     "ename": "AttributeError",
     "evalue": "_ARRAY_API not found",
     "output_type": "error",
     "traceback": [
      "\u001b[0;31m---------------------------------------------------------------------------\u001b[0m",
      "\u001b[0;31mAttributeError\u001b[0m                            Traceback (most recent call last)",
      "\u001b[0;31mAttributeError\u001b[0m: _ARRAY_API not found"
     ]
    },
    {
     "name": "stderr",
     "output_type": "stream",
     "text": [
      "\n",
      "A module that was compiled using NumPy 1.x cannot be run in\n",
      "NumPy 2.2.1 as it may crash. To support both 1.x and 2.x\n",
      "versions of NumPy, modules must be compiled with NumPy 2.0.\n",
      "Some module may need to rebuild instead e.g. with 'pybind11>=2.12'.\n",
      "\n",
      "If you are a user of the module, the easiest solution will be to\n",
      "downgrade to 'numpy<2' or try to upgrade the affected module.\n",
      "We expect that some modules will need time to support NumPy 2.\n",
      "\n",
      "Traceback (most recent call last):  File \"/usr/lib/python3.10/runpy.py\", line 196, in _run_module_as_main\n",
      "    return _run_code(code, main_globals, None,\n",
      "  File \"/usr/lib/python3.10/runpy.py\", line 86, in _run_code\n",
      "    exec(code, run_globals)\n",
      "  File \"/usr/local/lib/python3.10/dist-packages/ipykernel_launcher.py\", line 18, in <module>\n",
      "    app.launch_new_instance()\n",
      "  File \"/usr/local/lib/python3.10/dist-packages/traitlets/config/application.py\", line 1075, in launch_instance\n",
      "    app.start()\n",
      "  File \"/usr/local/lib/python3.10/dist-packages/ipykernel/kernelapp.py\", line 739, in start\n",
      "    self.io_loop.start()\n",
      "  File \"/usr/local/lib/python3.10/dist-packages/tornado/platform/asyncio.py\", line 205, in start\n",
      "    self.asyncio_loop.run_forever()\n",
      "  File \"/usr/lib/python3.10/asyncio/base_events.py\", line 603, in run_forever\n",
      "    self._run_once()\n",
      "  File \"/usr/lib/python3.10/asyncio/base_events.py\", line 1909, in _run_once\n",
      "    handle._run()\n",
      "  File \"/usr/lib/python3.10/asyncio/events.py\", line 80, in _run\n",
      "    self._context.run(self._callback, *self._args)\n",
      "  File \"/usr/local/lib/python3.10/dist-packages/ipykernel/kernelbase.py\", line 545, in dispatch_queue\n",
      "    await self.process_one()\n",
      "  File \"/usr/local/lib/python3.10/dist-packages/ipykernel/kernelbase.py\", line 534, in process_one\n",
      "    await dispatch(*args)\n",
      "  File \"/usr/local/lib/python3.10/dist-packages/ipykernel/kernelbase.py\", line 437, in dispatch_shell\n",
      "    await result\n",
      "  File \"/usr/local/lib/python3.10/dist-packages/ipykernel/ipkernel.py\", line 362, in execute_request\n",
      "    await super().execute_request(stream, ident, parent)\n",
      "  File \"/usr/local/lib/python3.10/dist-packages/ipykernel/kernelbase.py\", line 778, in execute_request\n",
      "    reply_content = await reply_content\n",
      "  File \"/usr/local/lib/python3.10/dist-packages/ipykernel/ipkernel.py\", line 449, in do_execute\n",
      "    res = shell.run_cell(\n",
      "  File \"/usr/local/lib/python3.10/dist-packages/ipykernel/zmqshell.py\", line 549, in run_cell\n",
      "    return super().run_cell(*args, **kwargs)\n",
      "  File \"/usr/local/lib/python3.10/dist-packages/IPython/core/interactiveshell.py\", line 3075, in run_cell\n",
      "    result = self._run_cell(\n",
      "  File \"/usr/local/lib/python3.10/dist-packages/IPython/core/interactiveshell.py\", line 3130, in _run_cell\n",
      "    result = runner(coro)\n",
      "  File \"/usr/local/lib/python3.10/dist-packages/IPython/core/async_helpers.py\", line 128, in _pseudo_sync_runner\n",
      "    coro.send(None)\n",
      "  File \"/usr/local/lib/python3.10/dist-packages/IPython/core/interactiveshell.py\", line 3334, in run_cell_async\n",
      "    has_raised = await self.run_ast_nodes(code_ast.body, cell_name,\n",
      "  File \"/usr/local/lib/python3.10/dist-packages/IPython/core/interactiveshell.py\", line 3517, in run_ast_nodes\n",
      "    if await self.run_code(code, result, async_=asy):\n",
      "  File \"/usr/local/lib/python3.10/dist-packages/IPython/core/interactiveshell.py\", line 3577, in run_code\n",
      "    exec(code_obj, self.user_global_ns, self.user_ns)\n",
      "  File \"/tmp/ipykernel_45250/2080034654.py\", line 2, in <module>\n",
      "    import pandas as pd\n",
      "  File \"/usr/local/lib/python3.10/dist-packages/pandas/__init__.py\", line 49, in <module>\n",
      "    from pandas.core.api import (\n",
      "  File \"/usr/local/lib/python3.10/dist-packages/pandas/core/api.py\", line 28, in <module>\n",
      "    from pandas.core.arrays import Categorical\n",
      "  File \"/usr/local/lib/python3.10/dist-packages/pandas/core/arrays/__init__.py\", line 1, in <module>\n",
      "    from pandas.core.arrays.arrow import ArrowExtensionArray\n",
      "  File \"/usr/local/lib/python3.10/dist-packages/pandas/core/arrays/arrow/__init__.py\", line 5, in <module>\n",
      "    from pandas.core.arrays.arrow.array import ArrowExtensionArray\n",
      "  File \"/usr/local/lib/python3.10/dist-packages/pandas/core/arrays/arrow/array.py\", line 64, in <module>\n",
      "    from pandas.core.arrays.masked import BaseMaskedArray\n",
      "  File \"/usr/local/lib/python3.10/dist-packages/pandas/core/arrays/masked.py\", line 60, in <module>\n",
      "    from pandas.core import (\n",
      "  File \"/usr/local/lib/python3.10/dist-packages/pandas/core/nanops.py\", line 52, in <module>\n",
      "    bn = import_optional_dependency(\"bottleneck\", errors=\"warn\")\n",
      "  File \"/usr/local/lib/python3.10/dist-packages/pandas/compat/_optional.py\", line 135, in import_optional_dependency\n",
      "    module = importlib.import_module(name)\n",
      "  File \"/usr/lib/python3.10/importlib/__init__.py\", line 126, in import_module\n",
      "    return _bootstrap._gcd_import(name[level:], package, level)\n",
      "  File \"/usr/lib/python3/dist-packages/bottleneck/__init__.py\", line 2, in <module>\n",
      "    from .reduce import (\n"
     ]
    },
    {
     "ename": "AttributeError",
     "evalue": "_ARRAY_API not found",
     "output_type": "error",
     "traceback": [
      "\u001b[0;31m---------------------------------------------------------------------------\u001b[0m",
      "\u001b[0;31mAttributeError\u001b[0m                            Traceback (most recent call last)",
      "\u001b[0;31mAttributeError\u001b[0m: _ARRAY_API not found"
     ]
    },
    {
     "name": "stderr",
     "output_type": "stream",
     "text": [
      "/usr/local/lib/python3.10/dist-packages/matplotlib/projections/__init__.py:63: UserWarning: Unable to import Axes3D. This may be due to multiple versions of Matplotlib being installed (e.g. as a system package and as a pip package). As a result, the 3D projection is not available.\n",
      "  warnings.warn(\"Unable to import Axes3D. This may be due to multiple versions of \"\n"
     ]
    }
   ],
   "source": [
    "import numpy as np\n",
    "import pandas as pd\n",
    "import matplotlib.pyplot as plt"
   ]
  },
  {
   "cell_type": "markdown",
   "metadata": {},
   "source": [
    "#### MNIST dataset"
   ]
  },
  {
   "cell_type": "code",
   "execution_count": 2,
   "metadata": {},
   "outputs": [],
   "source": [
    "# Function to one-hot encode the target variable into the 10 classes (0-9)\n",
    "# Input shape: (N,),    Output: (N, 10)\n",
    "def one_hot(Y):\n",
    "    one_hot_Y = np.zeros((Y.size, 10))\n",
    "    one_hot_Y[np.arange(Y.size), Y] = 1\n",
    "    return one_hot_Y"
   ]
  },
  {
   "cell_type": "code",
   "execution_count": 3,
   "metadata": {},
   "outputs": [],
   "source": [
    "# Loading the MNIST dataset\n",
    "train_data=pd.read_csv(r\"./mnist_train.csv\")\n",
    "test_data=pd.read_csv(r\"./mnist_test.csv\")\n",
    "\n",
    "# Preprocessing the data\n",
    "train_data=train_data.to_numpy()    # train_data shape: (60000, 785)\n",
    "test_data=test_data.to_numpy()      # test_data shape: (10000, 785)\n",
    "\n",
    "X_train=train_data[:,1:]            # X_train shape: (60000, 784)\n",
    "y_train=train_data[:,0]             # y_train shape: (60000,)\n",
    "X_test=test_data[:,1:]              # X_test shape: (10000, 784)\n",
    "y_test=test_data[:,0]               # y_test shape: (10000,)\n",
    "\n",
    "X_train = X_train / 255.0           # Normalizing the data\n",
    "X_test = X_test / 255.0\n",
    "\n",
    "one_hot_y_train = one_hot(y_train)  # one_hot_y_train shape: (60000, 10)\n",
    "one_hot_y_test = one_hot(y_test)    # one_hot_y_test shape: (10000, 10)"
   ]
  },
  {
   "cell_type": "code",
   "execution_count": null,
   "metadata": {},
   "outputs": [],
   "source": []
  },
  {
   "cell_type": "markdown",
   "metadata": {},
   "source": [
    "#### Training on the other Boolean functions"
   ]
  },
  {
   "cell_type": "code",
   "execution_count": 4,
   "metadata": {},
   "outputs": [],
   "source": [
    "#all except majority function:won't converge without hidden layers\n",
    "#Task 1\n",
    "#XOR\n",
    "x_xor=np.array([[0,0],[0,1],[1,0],[1,1]])\n",
    "y_xor=np.array([[0],[1],[1],[0]])\n"
   ]
  },
  {
   "cell_type": "code",
   "execution_count": 5,
   "metadata": {},
   "outputs": [],
   "source": [
    "#DATASET FOR 4 INPUTS\n",
    "x4=np.array([])\n",
    "for i1 in range(0,2):\n",
    "    for i2 in range(0,2):\n",
    "        for i3 in range(0,2):\n",
    "            for i4 in range(0,2):\n",
    "                x4=np.append(x4,[i1,i2,i3,i4],axis=0)\n",
    "x4=x4.reshape((16,4))"
   ]
  },
  {
   "cell_type": "code",
   "execution_count": 6,
   "metadata": {},
   "outputs": [],
   "source": [
    "#dataset for 5 inputs\n",
    "x5=np.array([])\n",
    "for i1 in range(0,2):\n",
    "    for i2 in range(0,2):\n",
    "        for i3 in range(0,2):\n",
    "            for i4 in range(0,2):\n",
    "                for i5 in range(0,2):\n",
    "                    x5=np.append(x5,[i1,i2,i3,i4,i5],axis=0)\n",
    "x5=x5.reshape(32,5)"
   ]
  },
  {
   "cell_type": "code",
   "execution_count": 7,
   "metadata": {},
   "outputs": [],
   "source": [
    "#dataset for palindrome detectiom on binary detection\n",
    "y_p1=np.array([])\n",
    "for x in x4:\n",
    "    if x[0]==x[3] and x[1]==x[2]:\n",
    "        y_p1=np.append(y_p1,[1])\n",
    "    else:\n",
    "        y_p1=np.append(y_p1,[0])\n",
    "y_p2=np.array([])       \n",
    "for x in x5:\n",
    "    if x[0]==x[4] and x[1]==x[3]:\n",
    "        y_p2=np.append(y_p2,[1])\n",
    "    else:\n",
    "        y_p2=np.append(y_p2,[0])\n",
    "y_p1=y_p1.reshape(y_p1.shape[0],1)\n",
    "y_p2=y_p2.reshape(y_p2.shape[0],1)  \n"
   ]
  },
  {
   "cell_type": "code",
   "execution_count": 8,
   "metadata": {},
   "outputs": [],
   "source": [
    "#dataset for even parity function\n",
    "y_e1=np.array([])\n",
    "for x in x4:\n",
    "    count=0\n",
    "    for i in range(0,4):\n",
    "        if x[i]==1:\n",
    "            count+=1\n",
    "    if count%2==0:\n",
    "        y_e1=np.append(y_e1,[1])\n",
    "    else:\n",
    "        y_e1=np.append(y_e1,[0])\n",
    "y_e2=np.array([])\n",
    "for x in x5:\n",
    "    count=0\n",
    "    for i in range(0,5):\n",
    "        if x[i]==1:\n",
    "            count+=1\n",
    "    if count%2==0:\n",
    "        y_e2=np.append(y_e2,[1])\n",
    "    else:\n",
    "        y_e2=np.append(y_e2,[0])\n",
    "y_e1=y_e1.reshape(y_e1.shape[0],1)\n",
    "y_e2=y_e2.reshape(y_e2.shape[0],1)\n"
   ]
  },
  {
   "cell_type": "code",
   "execution_count": 9,
   "metadata": {},
   "outputs": [],
   "source": [
    "#Task 2\n",
    "class NeuralNetwork:\n",
    "    def __init__(self,input_size,hidden_size,output_size):\n",
    "        self.input_size=input_size\n",
    "        self.hidden_size=hidden_size\n",
    "        self.output_size=output_size\n",
    "        self.weights_input_hidden=np.random.randn(self.input_size,self.hidden_size)\n",
    "        self.weights_hidden_output=np.random.randn(self.hidden_size,self.output_size)\n",
    "        self.bias_hidden=np.zeros((1,self.hidden_size))\n",
    "        self.bias_output=np.zeros((1,self.output_size))\n",
    "    def sigmoid(self,x):\n",
    "        return 1/(1+np.exp(-x))\n",
    "    def sigmoid_derivative(self,x):\n",
    "        return x*(1-x)\n",
    "    def feedforward(self,x):\n",
    "        self.hidden_activation=np.dot(x,self.weights_input_hidden)+self.bias_hidden\n",
    "        self.hidden_output=self.sigmoid(self.hidden_activation)\n",
    "        self.output_activation=np.dot(self.hidden_output,self.weights_hidden_output)+self.bias_output\n",
    "        self.prediction_output=self.sigmoid(self.output_activation)\n",
    "        return self.prediction_output\n",
    "    def backward(self,x,y,lr):\n",
    "        output_error=y-self.prediction_output\n",
    "        output_delta=output_error*self.sigmoid_derivative(self.prediction_output)\n",
    "        hidden_error=np.dot(output_delta,self.weights_hidden_output.T)                              \n",
    "        hidden_delta=hidden_error*self.sigmoid_derivative(self.hidden_output)\n",
    "        self.weights_hidden_output+=np.dot(self.hidden_output.T,output_delta)*lr\n",
    "        self.bias_output+=np.sum(output_delta,axis=0,keepdims=True)*lr\n",
    "        self.weights_input_hidden+=np.dot(x.T,hidden_delta)*lr\n",
    "        self.bias_hidden+=np.sum(hidden_delta,axis=0,keepdims=True)*lr\n",
    "    def train(self,x,y,epochs,lr):\n",
    "        plot_arr=np.array([])\n",
    "        for epoch in range(epochs):\n",
    "            output=self.feedforward(x)\n",
    "            self.backward(x,y,lr)\n",
    "            if epoch%100000==0:\n",
    "                loss=np.mean(np.square(y-output))\n",
    "                plot_arr=np.append(plot_arr,[loss])\n",
    "                print(f\"Epochs:{epoch},Loss:{loss}\")\n",
    "            \n",
    "        return plot_arr\n",
    "        \n",
    "                           "
   ]
  },
  {
   "cell_type": "code",
   "execution_count": 10,
   "metadata": {},
   "outputs": [],
   "source": [
    "def plots_tss(plot_arr):\n",
    "    m=len(plot_arr)\n",
    "    x=np.arange(1,m+1)\n",
    "    y=plot_arr\n",
    "    plt.xlabel(\"epochs\")\n",
    "    plt.ylabel(\"tss_loss\")\n",
    "    plt.plot(x,y,label=\"loss versus epochs\")\n",
    "    plt.show()"
   ]
  },
  {
   "cell_type": "code",
   "execution_count": 11,
   "metadata": {},
   "outputs": [
    {
     "name": "stdout",
     "output_type": "stream",
     "text": [
      "Epochs:0,Loss:0.3417295844160175\n",
      "Epochs:100000,Loss:0.0016695816468020337\n",
      "Epochs:200000,Loss:0.0005954903226032781\n",
      "Epochs:300000,Loss:0.00034983934698963945\n",
      "Epochs:400000,Loss:0.0002444684040310435\n",
      "Epochs:500000,Loss:0.0001866461266733676\n",
      "Epochs:600000,Loss:0.00015035665303724123\n",
      "Epochs:700000,Loss:0.0001255614632289804\n",
      "Epochs:800000,Loss:0.00010759524934393946\n",
      "Epochs:900000,Loss:9.400465249522513e-05\n",
      "[[0.00840937]\n",
      " [0.99161446]\n",
      " [0.98979377]\n",
      " [0.00939777]]\n"
     ]
    },
    {
     "data": {
      "image/png": "[encoded data removed]",
      "text/plain": [
       "<Figure size 640x480 with 1 Axes>"
      ]
     },
     "metadata": {},
     "output_type": "display_data"
    }
   ],
   "source": [
    "#XOR\n",
    "nn=NeuralNetwork(2,4,1)\n",
    "plot_xor_tss=nn.train(x_xor,y_xor,epochs=1000000,lr=0.01)\n",
    "output_xor=nn.feedforward(x_xor)\n",
    "print(output_xor)\n",
    "plots_tss(plot_xor_tss)"
   ]
  },
  {
   "cell_type": "code",
   "execution_count": 12,
   "metadata": {},
   "outputs": [
    {
     "name": "stdout",
     "output_type": "stream",
     "text": [
      "Epochs:0,Loss:0.20528016009113226\n",
      "Epochs:100000,Loss:0.0005615191877511048\n",
      "Epochs:200000,Loss:0.00023197088057608188\n",
      "Epochs:300000,Loss:0.00014319215067518952\n",
      "Epochs:400000,Loss:0.0001027250402874569\n",
      "Epochs:500000,Loss:7.975374442683764e-05\n",
      "Epochs:600000,Loss:6.501244317841861e-05\n",
      "Epochs:700000,Loss:5.4777617108949086e-05\n",
      "Epochs:800000,Loss:4.7270371839072635e-05\n",
      "Epochs:900000,Loss:4.1536006021810305e-05\n",
      "[[9.93782354e-01]\n",
      " [5.36747778e-03]\n",
      " [6.41700462e-03]\n",
      " [4.15382314e-04]\n",
      " [6.64039147e-03]\n",
      " [6.70102514e-03]\n",
      " [9.93158689e-01]\n",
      " [5.81892518e-03]\n",
      " [5.73835133e-03]\n",
      " [9.89706809e-01]\n",
      " [6.35086774e-03]\n",
      " [4.28714598e-04]\n",
      " [5.86374107e-04]\n",
      " [5.95506027e-04]\n",
      " [6.14262964e-03]\n",
      " [9.90203674e-01]]\n"
     ]
    },
    {
     "data": {
      "image/png": "[encoded data removed]",
      "text/plain": [
       "<Figure size 640x480 with 1 Axes>"
      ]
     },
     "metadata": {},
     "output_type": "display_data"
    }
   ],
   "source": [
    "#Palindrome with 4 inputs\n",
    "nn=NeuralNetwork(4,4,1)\n",
    "plot_p1_tss=nn.train(x4,y_p1,epochs=1000000,lr=0.01)\n",
    "output_p1=nn.feedforward(x4)\n",
    "print(output_p1)\n",
    "plots_tss(plot_p1_tss)"
   ]
  },
  {
   "cell_type": "code",
   "execution_count": null,
   "metadata": {},
   "outputs": [
    {
     "name": "stdout",
     "output_type": "stream",
     "text": [
      "Epochs:0,Loss:0.21637715047518796\n",
      "Epochs:100000,Loss:0.00021013531097372758\n",
      "Epochs:200000,Loss:9.215409233833064e-05\n",
      "Epochs:300000,Loss:5.8011457319499236e-05\n"
     ]
    }
   ],
   "source": [
    "#Palindrome with 5 inputs\n",
    "nn=NeuralNetwork(5,4,1)\n",
    "plot_p2_tss=nn.train(x5,y_p2,epochs=1000000,lr=0.01)\n",
    "output_p2=nn.feedforward(x5)\n",
    "print(output_p2)\n",
    "plots_tss(plot_p2_tss)"
   ]
  },
  {
   "cell_type": "code",
   "execution_count": null,
   "metadata": {},
   "outputs": [],
   "source": [
    "#Even parity with 4 inputs\n",
    "nn=NeuralNetwork(4,6,1)\n",
    "plot_e1_tss=nn.train(x4,y_e1,epochs=1000000,lr=0.01)\n",
    "output_e1=nn.feedforward(x4)\n",
    "print(output_e1)\n",
    "plots_tss(plot_e1_tss)"
   ]
  },
  {
   "cell_type": "code",
   "execution_count": null,
   "metadata": {},
   "outputs": [],
   "source": [
    "#Even parity with 5 inputs\n",
    "nn=NeuralNetwork(5,7,1)\n",
    "plot_e2_tss=nn.train(x5,y_e2,epochs=1000000,lr=0.01)\n",
    "output_e2=nn.feedforward(x5)\n",
    "print(output_e2)\n",
    "plots_tss(plot_e2_tss)"
   ]
  },
  {
   "cell_type": "code",
   "execution_count": null,
   "metadata": {},
   "outputs": [],
   "source": [
    "#Task 2 :for cross entropy\n",
    "class NeuralNetwork_CE:\n",
    "    def __init__(self,input_size,hidden_size,output_size):\n",
    "        self.input_size=input_size\n",
    "        self.hidden_size=hidden_size\n",
    "        self.output_size=output_size\n",
    "        self.weights_input_hidden=np.random.randn(self.input_size,self.hidden_size)\n",
    "        self.weights_hidden_output=np.random.randn(self.hidden_size,self.output_size)\n",
    "        self.bias_hidden=np.zeros((1,self.hidden_size))\n",
    "        self.bias_output=np.zeros((1,self.output_size))\n",
    "    def sigmoid(self,x):\n",
    "        return 1/(1+np.exp(-x))\n",
    "    def sigmoid_derivative(self,x):\n",
    "        return x*(1-x)\n",
    "    def feedforward(self,x):\n",
    "        self.hidden_activation=np.dot(x,self.weights_input_hidden)+self.bias_hidden\n",
    "        self.hidden_output=self.sigmoid(self.hidden_activation)\n",
    "        self.output_activation=np.dot(self.hidden_output,self.weights_hidden_output)+self.bias_output\n",
    "        self.prediction_output=self.sigmoid(self.output_activation)\n",
    "        return self.prediction_output\n",
    "    def backward(self,x,y,lr):\n",
    "        #output_error=(self.prediction_output-y)/((self.prediction_output)*(1-self.prediction_output))\n",
    "        #output_delta=output_error*self.sigmoid_derivative(self.prediction_output)\n",
    "        output_delta=y-self.prediction_output\n",
    "        hidden_error=np.dot(output_delta,self.weights_hidden_output.T)                              \n",
    "        hidden_delta=hidden_error*self.sigmoid_derivative(self.hidden_output)\n",
    "        self.weights_hidden_output+=np.dot(self.hidden_output.T,output_delta)*lr\n",
    "        self.bias_output+=np.sum(output_delta,axis=0,keepdims=True)*lr\n",
    "        self.weights_input_hidden+=np.dot(x.T,hidden_delta)*lr\n",
    "        self.bias_hidden+=np.sum(hidden_delta,axis=0,keepdims=True)*lr\n",
    "    def train(self,x,y,epochs,lr):\n",
    "        plot_arr=np.array([])\n",
    "        for epoch in range(epochs):\n",
    "            output=self.feedforward(x)\n",
    "            self.backward(x,y,lr)\n",
    "            if epoch%100000==0:\n",
    "                loss=np.mean(np.square(y-output))\n",
    "                plot_arr=np.append(plot_arr,[loss])\n",
    "                print(f\"Epochs:{epoch},Loss:{loss}\")\n",
    "        return plot_arr\n",
    "            \n",
    "        \n",
    "        \n",
    "                           "
   ]
  },
  {
   "cell_type": "code",
   "execution_count": null,
   "metadata": {},
   "outputs": [],
   "source": [
    "def plots_ce(plot_arr):\n",
    "    m=len(plot_arr)\n",
    "    x=np.arange(1,m+1)\n",
    "    y=plot_arr\n",
    "    plt.xlabel(\"epochs\")\n",
    "    plt.ylabel(\"ce_loss\")\n",
    "    plt.plot(x,y,label=\"loss versus epochs\")\n",
    "    plt.show()"
   ]
  },
  {
   "cell_type": "code",
   "execution_count": null,
   "metadata": {},
   "outputs": [],
   "source": [
    "#XOR\n",
    "nn=NeuralNetwork_CE(2,4,1)\n",
    "plot_xor_ce=nn.train(x_xor,y_xor,epochs=1000000,lr=0.01)\n",
    "output_xor_ce=nn.feedforward(x_xor)\n",
    "print(output_xor_ce)\n",
    "plots_ce(plot_xor_ce)\n"
   ]
  },
  {
   "cell_type": "code",
   "execution_count": null,
   "metadata": {},
   "outputs": [],
   "source": [
    "#Palindrome with 4 inputs\n",
    "nn=NeuralNetwork_CE(4,4,1)\n",
    "plot_p1_ce=nn.train(x4,y_p1,epochs=1000000,lr=0.01)\n",
    "output_p1_ce=nn.feedforward(x4)\n",
    "print(output_p1_ce)\n",
    "plots_ce(plot_p1_ce)\n"
   ]
  },
  {
   "cell_type": "code",
   "execution_count": null,
   "metadata": {},
   "outputs": [],
   "source": [
    "#Palindrome with 5 inputs\n",
    "nn=NeuralNetwork_CE(5,4,1)\n",
    "plot_p2_ce=nn.train(x5,y_p2,epochs=1000000,lr=0.01)\n",
    "output_p2_ce=nn.feedforward(x5)\n",
    "print(output_p2_ce)\n",
    "plots_ce(plot_p2_ce)"
   ]
  },
  {
   "cell_type": "code",
   "execution_count": null,
   "metadata": {},
   "outputs": [],
   "source": [
    "#Even parity with 4 inputs\n",
    "nn=NeuralNetwork_CE(4,6,1)\n",
    "plot_e1_ce=nn.train(x4,y_e1,epochs=1000000,lr=0.01)\n",
    "output_e1_ce=nn.feedforward(x4)\n",
    "print(output_e1_ce)\n",
    "plots_ce(plot_e1_ce)"
   ]
  },
  {
   "cell_type": "code",
   "execution_count": null,
   "metadata": {},
   "outputs": [],
   "source": [
    "#Even parity with 5 inputs\n",
    "nn=NeuralNetwork_CE(5,7,1)\n",
    "plot_p2_ce=nn.train(x5,y_e2,epochs=1000000,lr=0.01)\n",
    "output_e2_ce=nn.feedforward(x5)\n",
    "print(output_e2_ce)\n",
    "plots_ce(plot_p2_ce)"
   ]
  },
  {
   "cell_type": "code",
   "execution_count": null,
   "metadata": {},
   "outputs": [],
   "source": [
    "#MNIST with CE loss with hidden layer using ReLU\n",
    "\n",
    "#Task 2 :for cross entropy\n",
    "class NeuralNetwork_CE:\n",
    "    def __init__(self,input_size,hidden_size,output_size):\n",
    "        self.input_size=input_size\n",
    "        self.hidden_size=hidden_size\n",
    "        self.output_size=output_size\n",
    "        self.weights_input_hidden=np.random.randn(self.input_size,self.hidden_size)\n",
    "        self.weights_hidden_output=np.random.randn(self.hidden_size,self.output_size)\n",
    "        self.bias_hidden=np.zeros((1,self.hidden_size))\n",
    "        self.bias_output=np.zeros((1,self.output_size))\n",
    "    def sigmoid(self,x):\n",
    "        return 1/(1+np.exp(-x))\n",
    "    def sigmoid_derivative(self,x):\n",
    "        return x*(1-x)\n",
    "    def softmax(self,x):\n",
    "        exp_x=np.exp(x-np.max(x,axis=1,keepdims=True))\n",
    "        return exp_x/np.sum(exp_x,axis=1,keepdims=True)\n",
    "    def relu(self,x):\n",
    "        return np.maximum(0,x)\n",
    "    def relu_derivative(self,x):\n",
    "        if x>0:\n",
    "            return 1\n",
    "        return 0\n",
    "    def feedforward(self,x):\n",
    "        self.hidden_activation=np.dot(x,self.weights_input_hidden)+self.bias_hidden\n",
    "        self.hidden_output=self.relu(self.hidden_activation)\n",
    "        self.output_activation=np.dot(self.hidden_output,self.weights_hidden_output)+self.bias_output\n",
    "        self.prediction_output=self.softmax(self.output_activation)\n",
    "        return self.prediction_output\n",
    "    def backward(self,x,y,lr):\n",
    "        #output_error=(self.prediction_output-y)/((self.prediction_output)*(1-self.prediction_output))\n",
    "        #output_delta=output_error*self.sigmoid_derivative(self.prediction_output)\n",
    "        output_delta=y-self.prediction_output\n",
    "        hidden_error=np.dot(output_delta,self.weights_hidden_output.T)                              \n",
    "        hidden_delta=hidden_error*self.relu_derivative(self.hidden_output)\n",
    "        self.weights_hidden_output+=np.dot(self.hidden_output.T,output_delta)*lr\n",
    "        self.bias_output+=np.sum(output_delta,axis=0,keepdims=True)*lr\n",
    "        self.weights_input_hidden+=np.dot(x.T,hidden_delta)*lr\n",
    "        self.bias_hidden+=np.sum(hidden_delta,axis=0,keepdims=True)*lr\n",
    "    def train(self,x,y,epochs,lr):\n",
    "        plot_arr=np.array([])\n",
    "        for epoch in range(epochs):\n",
    "            output=self.feedforward(x)\n",
    "            self.backward(x,y,lr)\n",
    "            if epoch%100000==0:\n",
    "                loss=np.mean(np.square(y-output))\n",
    "                plot_arr=np.append(plot_arr,[loss])\n",
    "                print(f\"Epochs:{epoch},Loss:{loss}\")\n",
    "        return plot_arr\n",
    "            \n",
    "        \n",
    "        \n",
    "                           \n"
   ]
  },
  {
   "cell_type": "code",
   "execution_count": null,
   "metadata": {},
   "outputs": [],
   "source": [
    "#MNIST\n",
    "nn=NeuralNetwork_CE(784,7,10)\n",
    "plot_mnist_ce=nn.train(X_train,one_hot_y_train,epochs=1000000,lr=0.01)\n",
    "output_mnist_ce=nn.feedforward(X_train)\n",
    "print(output_mnist_ce)\n",
    "plots_ce(plot_mnist_ce)"
   ]
  },
  {
   "cell_type": "code",
   "execution_count": null,
   "metadata": {},
   "outputs": [],
   "source": [
    "def accuracy("
   ]
  }
 ],
 "metadata": {
  "kernelspec": {
   "display_name": "Python 3 (ipykernel)",
   "language": "python",
   "name": "python3"
  },
  "language_info": {
   "codemirror_mode": {
    "name": "ipython",
    "version": 3
   },
   "file_extension": ".py",
   "mimetype": "text/x-python",
   "name": "python",
   "nbconvert_exporter": "python",
   "pygments_lexer": "ipython3",
   "version": "3.10.12"
  }
 },
 "nbformat": 4,
 "nbformat_minor": 4
}
